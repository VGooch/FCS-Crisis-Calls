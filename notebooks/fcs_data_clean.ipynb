{
 "cells": [
  {
   "cell_type": "code",
   "execution_count": 1,
   "metadata": {},
   "outputs": [],
   "source": [
    "import pandas as pd\n",
    "import matplotlib.pyplot as plt\n",
    "import seaborn as sns\n",
    "import requests\n",
    "import folium\n",
    "from IPython.display import Image\n",
    "import pickle\n",
    "import numpy as np\n",
    "\n",
    "%matplotlib inline"
   ]
  },
  {
   "cell_type": "code",
   "execution_count": 2,
   "metadata": {
    "scrolled": false
   },
   "outputs": [
    {
     "name": "stderr",
     "output_type": "stream",
     "text": [
      "C:\\Users\\User\\anaconda3\\lib\\site-packages\\IPython\\core\\interactiveshell.py:3146: DtypeWarning: Columns (20,56,58,59,62,96,108,113,114,116,120,122,124,151,152) have mixed types.Specify dtype option on import or set low_memory=False.\n",
      "  has_raised = await self.run_ast_nodes(code_ast.body, cell_name,\n"
     ]
    },
    {
     "data": {
      "text/html": [
       "<div>\n",
       "<style scoped>\n",
       "    .dataframe tbody tr th:only-of-type {\n",
       "        vertical-align: middle;\n",
       "    }\n",
       "\n",
       "    .dataframe tbody tr th {\n",
       "        vertical-align: top;\n",
       "    }\n",
       "\n",
       "    .dataframe thead th {\n",
       "        text-align: right;\n",
       "    }\n",
       "</style>\n",
       "<table border=\"1\" class=\"dataframe\">\n",
       "  <thead>\n",
       "    <tr style=\"text-align: right;\">\n",
       "      <th></th>\n",
       "      <th>CallReportNum</th>\n",
       "      <th>ReportVersion</th>\n",
       "      <th>LinkedToCallReportNum</th>\n",
       "      <th>CallDateAndTimeStart</th>\n",
       "      <th>CallDateAndTimeEnd</th>\n",
       "      <th>CallLength</th>\n",
       "      <th>CallerNum</th>\n",
       "      <th>PhoneWorkerNum</th>\n",
       "      <th>WasRealCall</th>\n",
       "      <th>WasHangup</th>\n",
       "      <th>...</th>\n",
       "      <th>Risk Assessment - S1: Individual screened for mental health or related intervention</th>\n",
       "      <th>Risk Assessment - Suicidal SLAPs</th>\n",
       "      <th>Suicide Assessment - Are you thinking of suicide?</th>\n",
       "      <th>Suicide Assessment - Caller is having thoughts of killing self or other</th>\n",
       "      <th>Suicide Assessment - Do you own a firearm?</th>\n",
       "      <th>Suicide Assessment - Have you ever attempted to kill yourself?</th>\n",
       "      <th>Suicide Assessment - Have you thought about suicide in the last two months?</th>\n",
       "      <th>Suicide Assessment - Suicide in progress?</th>\n",
       "      <th>Transfer Information - Were you transferred to this line from another crisis line or agency?</th>\n",
       "      <th>Transfer Information - Which line/agency transferred you to this Crisis Line?</th>\n",
       "    </tr>\n",
       "  </thead>\n",
       "  <tbody>\n",
       "    <tr>\n",
       "      <th>0</th>\n",
       "      <td>82699332</td>\n",
       "      <td>Crisis</td>\n",
       "      <td>NaN</td>\n",
       "      <td>12/31/2020 23:40</td>\n",
       "      <td>12/31/2020 23:53</td>\n",
       "      <td>13</td>\n",
       "      <td>3769693</td>\n",
       "      <td>116928</td>\n",
       "      <td>NaN</td>\n",
       "      <td>NaN</td>\n",
       "      <td>...</td>\n",
       "      <td>NaN</td>\n",
       "      <td>NaN</td>\n",
       "      <td>NaN</td>\n",
       "      <td>NaN</td>\n",
       "      <td>NaN</td>\n",
       "      <td>NaN</td>\n",
       "      <td>NaN</td>\n",
       "      <td>NaN</td>\n",
       "      <td>No</td>\n",
       "      <td>NaN</td>\n",
       "    </tr>\n",
       "    <tr>\n",
       "      <th>1</th>\n",
       "      <td>82689642</td>\n",
       "      <td>Crisis</td>\n",
       "      <td>NaN</td>\n",
       "      <td>12/31/2020 22:31</td>\n",
       "      <td>12/31/2020 23:00</td>\n",
       "      <td>29</td>\n",
       "      <td>-1</td>\n",
       "      <td>136748</td>\n",
       "      <td>NaN</td>\n",
       "      <td>NaN</td>\n",
       "      <td>...</td>\n",
       "      <td>NaN</td>\n",
       "      <td>NaN</td>\n",
       "      <td>NaN</td>\n",
       "      <td>NaN</td>\n",
       "      <td>NaN</td>\n",
       "      <td>NaN</td>\n",
       "      <td>NaN</td>\n",
       "      <td>NaN</td>\n",
       "      <td>No</td>\n",
       "      <td>NaN</td>\n",
       "    </tr>\n",
       "  </tbody>\n",
       "</table>\n",
       "<p>2 rows × 153 columns</p>\n",
       "</div>"
      ],
      "text/plain": [
       "   CallReportNum ReportVersion  LinkedToCallReportNum CallDateAndTimeStart  \\\n",
       "0       82699332        Crisis                    NaN     12/31/2020 23:40   \n",
       "1       82689642        Crisis                    NaN     12/31/2020 22:31   \n",
       "\n",
       "  CallDateAndTimeEnd  CallLength  CallerNum  PhoneWorkerNum  WasRealCall  \\\n",
       "0   12/31/2020 23:53          13    3769693          116928          NaN   \n",
       "1   12/31/2020 23:00          29         -1          136748          NaN   \n",
       "\n",
       "   WasHangup  ...  \\\n",
       "0        NaN  ...   \n",
       "1        NaN  ...   \n",
       "\n",
       "   Risk Assessment - S1: Individual screened for mental health or related intervention  \\\n",
       "0                                                NaN                                     \n",
       "1                                                NaN                                     \n",
       "\n",
       "   Risk Assessment - Suicidal SLAPs  \\\n",
       "0                               NaN   \n",
       "1                               NaN   \n",
       "\n",
       "   Suicide Assessment - Are you thinking of suicide?  \\\n",
       "0                                                NaN   \n",
       "1                                                NaN   \n",
       "\n",
       "   Suicide Assessment - Caller is having thoughts of killing self or other  \\\n",
       "0                                                NaN                         \n",
       "1                                                NaN                         \n",
       "\n",
       "   Suicide Assessment - Do you own a firearm?  \\\n",
       "0                                         NaN   \n",
       "1                                         NaN   \n",
       "\n",
       "   Suicide Assessment - Have you ever attempted to kill yourself?  \\\n",
       "0                                                NaN                \n",
       "1                                                NaN                \n",
       "\n",
       "  Suicide Assessment - Have you thought about suicide in the last two months?  \\\n",
       "0                                                NaN                            \n",
       "1                                                NaN                            \n",
       "\n",
       "  Suicide Assessment - Suicide in progress?  \\\n",
       "0                                       NaN   \n",
       "1                                       NaN   \n",
       "\n",
       "  Transfer Information - Were you transferred to this line from another crisis line or agency?  \\\n",
       "0                                                 No                                             \n",
       "1                                                 No                                             \n",
       "\n",
       "  Transfer Information - Which line/agency transferred you to this Crisis Line?  \n",
       "0                                                NaN                             \n",
       "1                                                NaN                             \n",
       "\n",
       "[2 rows x 153 columns]"
      ]
     },
     "execution_count": 2,
     "metadata": {},
     "output_type": "execute_result"
    }
   ],
   "source": [
    "Crisis = pd.read_csv('../data/Crisis_2020_redacted.csv', encoding=\"ISO-8859-1\")\n",
    "Crisis.head(2)"
   ]
  },
  {
   "cell_type": "code",
   "execution_count": 3,
   "metadata": {},
   "outputs": [],
   "source": [
    "Crisis_sub = Crisis[['CallReportNum', 'CallDateAndTimeStart', 'CallDateAndTimeEnd', 'CallLength', 'CallerNum', 'PhoneWorkerNum', 'CityName', 'CountyName', 'StateProvince', 'PostalCode', 'CRISIS Demographics - Age', 'CRISIS Demographics - Education Level', 'CRISIS Demographics - Ethnicity', 'CRISIS Demographics - Gender Identity', 'CRISIS Demographics - Has a disability?', 'CRISIS Demographics - Homeless?', 'CRISIS Demographics - Income', 'CRISIS Demographics - Marital Status', 'CRISIS Demographics - Military', 'CRISIS Issues - Abusive Behavior', 'CRISIS Issues - Call Problems (specify at least 2)', 'CRISIS Issues - Emotional State', 'CRISIS Issues - Financial/Basic Needs', 'CRISIS Issues - Health/Physical', 'CRISIS Issues - Homicide', 'CRISIS Issues - Information or Services Needed', 'CRISIS Issues - Mental Health', 'CRISIS Issues - No Issue Call', 'CRISIS Issues - Other Description', 'CRISIS Issues - Relationships', 'CRISIS Issues - Substances', 'CRISIS Issues - Suicide']]"
   ]
  },
  {
   "cell_type": "code",
   "execution_count": 8,
   "metadata": {
    "scrolled": false
   },
   "outputs": [
    {
     "data": {
      "text/html": [
       "<div>\n",
       "<style scoped>\n",
       "    .dataframe tbody tr th:only-of-type {\n",
       "        vertical-align: middle;\n",
       "    }\n",
       "\n",
       "    .dataframe tbody tr th {\n",
       "        vertical-align: top;\n",
       "    }\n",
       "\n",
       "    .dataframe thead th {\n",
       "        text-align: right;\n",
       "    }\n",
       "</style>\n",
       "<table border=\"1\" class=\"dataframe\">\n",
       "  <thead>\n",
       "    <tr style=\"text-align: right;\">\n",
       "      <th></th>\n",
       "      <th>CRISIS Issues - Abusive Behavior</th>\n",
       "      <th>CRISIS Issues - Call Problems (specify at least 2)</th>\n",
       "      <th>CRISIS Issues - Emotional State</th>\n",
       "      <th>CRISIS Issues - Financial/Basic Needs</th>\n",
       "      <th>CRISIS Issues - Health/Physical</th>\n",
       "      <th>CRISIS Issues - Homicide</th>\n",
       "      <th>CRISIS Issues - Information or Services Needed</th>\n",
       "      <th>CRISIS Issues - Mental Health</th>\n",
       "      <th>CRISIS Issues - No Issue Call</th>\n",
       "      <th>CRISIS Issues - Other Description</th>\n",
       "      <th>CRISIS Issues - Relationships</th>\n",
       "      <th>CRISIS Issues - Substances</th>\n",
       "      <th>CRISIS Issues - Suicide</th>\n",
       "    </tr>\n",
       "  </thead>\n",
       "  <tbody>\n",
       "    <tr>\n",
       "      <th>0</th>\n",
       "      <td>NaN</td>\n",
       "      <td>NaN</td>\n",
       "      <td>Anxious/Stressed; Job Stress; Lonely</td>\n",
       "      <td>NaN</td>\n",
       "      <td>NaN</td>\n",
       "      <td>NaN</td>\n",
       "      <td>NaN</td>\n",
       "      <td>Medical Related Anxiety</td>\n",
       "      <td>NaN</td>\n",
       "      <td>NaN</td>\n",
       "      <td>NaN</td>\n",
       "      <td>NaN</td>\n",
       "      <td>NaN</td>\n",
       "    </tr>\n",
       "    <tr>\n",
       "      <th>1</th>\n",
       "      <td>NaN</td>\n",
       "      <td>NaN</td>\n",
       "      <td>Anxious/Stressed</td>\n",
       "      <td>NaN</td>\n",
       "      <td>NaN</td>\n",
       "      <td>NaN</td>\n",
       "      <td>NaN</td>\n",
       "      <td>Anxiety/Panic</td>\n",
       "      <td>NaN</td>\n",
       "      <td>NaN</td>\n",
       "      <td>Parent-Child; Peer Group/Friend; Therapist/Med...</td>\n",
       "      <td>NaN</td>\n",
       "      <td>NaN</td>\n",
       "    </tr>\n",
       "    <tr>\n",
       "      <th>2</th>\n",
       "      <td>NaN</td>\n",
       "      <td>NaN</td>\n",
       "      <td>Anxious/Stressed; Parenting Stress; Overwhelmed</td>\n",
       "      <td>NaN</td>\n",
       "      <td>NaN</td>\n",
       "      <td>NaN</td>\n",
       "      <td>NaN</td>\n",
       "      <td>Other Mental Health</td>\n",
       "      <td>NaN</td>\n",
       "      <td>NaN</td>\n",
       "      <td>Parent-Child; Other Relationships</td>\n",
       "      <td>NaN</td>\n",
       "      <td>NaN</td>\n",
       "    </tr>\n",
       "    <tr>\n",
       "      <th>3</th>\n",
       "      <td>NaN</td>\n",
       "      <td>NaN</td>\n",
       "      <td>Anger/Hostility</td>\n",
       "      <td>NaN</td>\n",
       "      <td>NaN</td>\n",
       "      <td>NaN</td>\n",
       "      <td>NaN</td>\n",
       "      <td>Anxiety/Panic; Paranoia</td>\n",
       "      <td>NaN</td>\n",
       "      <td>NaN</td>\n",
       "      <td>NaN</td>\n",
       "      <td>NaN</td>\n",
       "      <td>NaN</td>\n",
       "    </tr>\n",
       "    <tr>\n",
       "      <th>4</th>\n",
       "      <td>NaN</td>\n",
       "      <td>NaN</td>\n",
       "      <td>Anger/Hostility; Overwhelmed</td>\n",
       "      <td>NaN</td>\n",
       "      <td>NaN</td>\n",
       "      <td>NaN</td>\n",
       "      <td>NaN</td>\n",
       "      <td>Other Mental Health</td>\n",
       "      <td>NaN</td>\n",
       "      <td>NaN</td>\n",
       "      <td>Crisis Counselor; Conflict With Other</td>\n",
       "      <td>NaN</td>\n",
       "      <td>NaN</td>\n",
       "    </tr>\n",
       "  </tbody>\n",
       "</table>\n",
       "</div>"
      ],
      "text/plain": [
       "  CRISIS Issues - Abusive Behavior  \\\n",
       "0                              NaN   \n",
       "1                              NaN   \n",
       "2                              NaN   \n",
       "3                              NaN   \n",
       "4                              NaN   \n",
       "\n",
       "   CRISIS Issues - Call Problems (specify at least 2)  \\\n",
       "0                                                NaN    \n",
       "1                                                NaN    \n",
       "2                                                NaN    \n",
       "3                                                NaN    \n",
       "4                                                NaN    \n",
       "\n",
       "                   CRISIS Issues - Emotional State  \\\n",
       "0            Anxious/Stressed; Job Stress; Lonely    \n",
       "1                                 Anxious/Stressed   \n",
       "2  Anxious/Stressed; Parenting Stress; Overwhelmed   \n",
       "3                                  Anger/Hostility   \n",
       "4                     Anger/Hostility; Overwhelmed   \n",
       "\n",
       "  CRISIS Issues - Financial/Basic Needs CRISIS Issues - Health/Physical  \\\n",
       "0                                   NaN                             NaN   \n",
       "1                                   NaN                             NaN   \n",
       "2                                   NaN                             NaN   \n",
       "3                                   NaN                             NaN   \n",
       "4                                   NaN                             NaN   \n",
       "\n",
       "  CRISIS Issues - Homicide CRISIS Issues - Information or Services Needed  \\\n",
       "0                      NaN                                            NaN   \n",
       "1                      NaN                                            NaN   \n",
       "2                      NaN                                            NaN   \n",
       "3                      NaN                                            NaN   \n",
       "4                      NaN                                            NaN   \n",
       "\n",
       "  CRISIS Issues - Mental Health CRISIS Issues - No Issue Call  \\\n",
       "0      Medical Related Anxiety                            NaN   \n",
       "1                 Anxiety/Panic                           NaN   \n",
       "2           Other Mental Health                           NaN   \n",
       "3       Anxiety/Panic; Paranoia                           NaN   \n",
       "4           Other Mental Health                           NaN   \n",
       "\n",
       "  CRISIS Issues - Other Description  \\\n",
       "0                               NaN   \n",
       "1                               NaN   \n",
       "2                               NaN   \n",
       "3                               NaN   \n",
       "4                               NaN   \n",
       "\n",
       "                       CRISIS Issues - Relationships  \\\n",
       "0                                                NaN   \n",
       "1  Parent-Child; Peer Group/Friend; Therapist/Med...   \n",
       "2                  Parent-Child; Other Relationships   \n",
       "3                                                NaN   \n",
       "4              Crisis Counselor; Conflict With Other   \n",
       "\n",
       "  CRISIS Issues - Substances CRISIS Issues - Suicide  \n",
       "0                        NaN                     NaN  \n",
       "1                        NaN                     NaN  \n",
       "2                        NaN                     NaN  \n",
       "3                        NaN                     NaN  \n",
       "4                        NaN                     NaN  "
      ]
     },
     "execution_count": 8,
     "metadata": {},
     "output_type": "execute_result"
    }
   ],
   "source": [
    "Crisis_sub[['CRISIS Issues - Abusive Behavior', 'CRISIS Issues - Call Problems (specify at least 2)', 'CRISIS Issues - Emotional State', 'CRISIS Issues - Financial/Basic Needs', 'CRISIS Issues - Health/Physical', 'CRISIS Issues - Homicide', 'CRISIS Issues - Information or Services Needed', 'CRISIS Issues - Mental Health', 'CRISIS Issues - No Issue Call', 'CRISIS Issues - Other Description', 'CRISIS Issues - Relationships', 'CRISIS Issues - Substances', 'CRISIS Issues - Suicide']].head(5)"
   ]
  },
  {
   "cell_type": "code",
   "execution_count": null,
   "metadata": {},
   "outputs": [],
   "source": [
    "Crisis_sub['CRISIS Issues - Abusive Behavior'] = Crisis_sub['CRISIS Issues - Abusive Behavior'].astype('str')\n",
    "Crisis_sub['CRISIS Issues - Call Problems (specify at least 2)'] = Crisis_sub['CRISIS Issues - Call Problems (specify at least 2)'].astype('str')\n",
    "Crisis_sub['CRISIS Issues - Emotional State'] = Crisis_sub['CRISIS Issues - Emotional State'].astype('str')\n",
    "Crisis_sub['CRISIS Issues - Financial/Basic Needs'] = Crisis_sub['CRISIS Issues - Financial/Basic Needs'].astype('str')\n",
    "Crisis_sub['CRISIS Issues - Health/Physical'] = Crisis_sub['CRISIS Issues - Health/Physical'].astype('str')\n",
    "Crisis_sub['CRISIS Issues - Homicide'] = Crisis_sub['CRISIS Issues - Homicide'].astype('str')\n",
    "Crisis_sub['CRISIS Issues - Information or Services Needed'] = Crisis_sub['CRISIS Issues - Information or Services Needed'].astype('str')\n",
    "Crisis_sub['CRISIS Issues - Mental Health'] = Crisis_sub['CRISIS Issues - Mental Health'].astype('str')\n",
    "Crisis_sub['CRISIS Issues - No Issue Call'] = Crisis_sub['CRISIS Issues - No Issue Call'].astype('str')\n",
    "Crisis_sub['CRISIS Issues - Other Description'] = Crisis_sub['CRISIS Issues - Other Description'].astype('str')\n",
    "Crisis_sub['CRISIS Issues - Relationships'] = Crisis_sub['CRISIS Issues - Relationships'].astype('str')\n",
    "Crisis_sub['CRISIS Issues - Substances'] = Crisis_sub['CRISIS Issues - Substances'].astype('str')\n",
    "Crisis_sub['CRISIS Issues - Suicide'] = Crisis_sub['CRISIS Issues - Suicide'].astype('str')"
   ]
  },
  {
   "cell_type": "code",
   "execution_count": null,
   "metadata": {},
   "outputs": [],
   "source": [
    "Abusive_Behavior = Crisis_sub['CRISIS Issues - Abusive Behavior'].str.split('; ')"
   ]
  },
  {
   "cell_type": "code",
   "execution_count": null,
   "metadata": {},
   "outputs": [],
   "source": [
    "Call_Problems = Crisis_sub['CRISIS Issues - Call Problems (specify at least 2)'].str.split('; ')"
   ]
  },
  {
   "cell_type": "code",
   "execution_count": null,
   "metadata": {},
   "outputs": [],
   "source": [
    "Emotional_State = Crisis_sub['CRISIS Issues - Emotional State'].str.split('; ')"
   ]
  },
  {
   "cell_type": "code",
   "execution_count": null,
   "metadata": {},
   "outputs": [],
   "source": [
    "FB_Needs = Crisis_sub['CRISIS Issues - Financial/Basic Needs'].str.split('; ')"
   ]
  },
  {
   "cell_type": "code",
   "execution_count": null,
   "metadata": {},
   "outputs": [],
   "source": [
    "Health_Physical = Crisis_sub['CRISIS Issues - Health/Physical'].str.split('; ')"
   ]
  },
  {
   "cell_type": "code",
   "execution_count": null,
   "metadata": {},
   "outputs": [],
   "source": [
    "Homicide = Crisis_sub['CRISIS Issues - Homicide'].str.split('; ')"
   ]
  },
  {
   "cell_type": "code",
   "execution_count": null,
   "metadata": {},
   "outputs": [],
   "source": [
    "IS_Needs = Crisis_sub['CRISIS Issues - Information or Services Needed'].str.split('; ')"
   ]
  },
  {
   "cell_type": "code",
   "execution_count": null,
   "metadata": {},
   "outputs": [],
   "source": [
    "Mental_Health = Crisis_sub['CRISIS Issues - Mental Health'].str.split('; ')"
   ]
  },
  {
   "cell_type": "code",
   "execution_count": null,
   "metadata": {},
   "outputs": [],
   "source": [
    "No_Issue = Crisis_sub['CRISIS Issues - No Issue Call'].str.split('; ')"
   ]
  },
  {
   "cell_type": "code",
   "execution_count": null,
   "metadata": {},
   "outputs": [],
   "source": [
    "Other_Description = Crisis_sub['CRISIS Issues - Other Description'].str.split('; ')"
   ]
  },
  {
   "cell_type": "code",
   "execution_count": null,
   "metadata": {},
   "outputs": [],
   "source": [
    "Relationships = Crisis_sub['CRISIS Issues - Relationships'].str.split('; ')"
   ]
  },
  {
   "cell_type": "code",
   "execution_count": null,
   "metadata": {},
   "outputs": [],
   "source": [
    "Substances = Crisis_sub['CRISIS Issues - Substances'].str.split('; ')"
   ]
  },
  {
   "cell_type": "code",
   "execution_count": null,
   "metadata": {},
   "outputs": [],
   "source": [
    "Suicide = Crisis_sub['CRISIS Issues - Suicide'].str.split('; ')"
   ]
  },
  {
   "cell_type": "code",
   "execution_count": null,
   "metadata": {},
   "outputs": [],
   "source": [
    "AB_Diagnosis = list(set(Abusive_Behavior.dropna().sum()))"
   ]
  },
  {
   "cell_type": "code",
   "execution_count": null,
   "metadata": {},
   "outputs": [],
   "source": [
    "CP_Issues = list(set(Call_Problems.dropna().sum()))"
   ]
  },
  {
   "cell_type": "code",
   "execution_count": null,
   "metadata": {},
   "outputs": [],
   "source": [
    "ES_Diagnosis = list(set(Emotional_State.dropna().sum()))"
   ]
  },
  {
   "cell_type": "code",
   "execution_count": null,
   "metadata": {},
   "outputs": [],
   "source": [
    "FB_Issues = list(set(FB_Needs.dropna().sum()))"
   ]
  },
  {
   "cell_type": "code",
   "execution_count": null,
   "metadata": {},
   "outputs": [],
   "source": [
    "HP_Diagnosis = list(set(Health_Physical.dropna().sum()))"
   ]
  },
  {
   "cell_type": "code",
   "execution_count": null,
   "metadata": {},
   "outputs": [],
   "source": [
    "H_Diagnosis = list(set(Homicide.dropna().sum()))"
   ]
  },
  {
   "cell_type": "code",
   "execution_count": null,
   "metadata": {},
   "outputs": [],
   "source": [
    "IS_Issues = list(set(IS_Needs.dropna().sum()))"
   ]
  },
  {
   "cell_type": "code",
   "execution_count": null,
   "metadata": {},
   "outputs": [],
   "source": [
    "MH_Diagnosis = list(set(Mental_Health.dropna().sum()))"
   ]
  },
  {
   "cell_type": "code",
   "execution_count": null,
   "metadata": {},
   "outputs": [],
   "source": [
    "Issues_Diagnosis = list(set(No_Issue.dropna().sum()))"
   ]
  },
  {
   "cell_type": "code",
   "execution_count": null,
   "metadata": {},
   "outputs": [],
   "source": [
    "Other_Diagnosis = list(set(Other_Description.dropna().sum()))"
   ]
  },
  {
   "cell_type": "code",
   "execution_count": null,
   "metadata": {},
   "outputs": [],
   "source": [
    "Rel_Diagnosis = list(set(Relationships.dropna().sum()))"
   ]
  },
  {
   "cell_type": "code",
   "execution_count": null,
   "metadata": {},
   "outputs": [],
   "source": [
    "Sub_Diagnosis = list(set(Substances.dropna().sum()))"
   ]
  },
  {
   "cell_type": "code",
   "execution_count": null,
   "metadata": {},
   "outputs": [],
   "source": [
    "S_Diagnosis = list(set(Suicide.dropna().sum()))"
   ]
  },
  {
   "cell_type": "code",
   "execution_count": null,
   "metadata": {},
   "outputs": [],
   "source": [
    "New_Columns = AB_Diagnosis + CP_Issues + ES_Diagnosis + FB_Issues + HP_Diagnosis + H_Diagnosis + IS_Issues + MH_Diagnosis + Issues_Diagnosis + Other_Diagnosis + Rel_Diagnosis + Sub_Diagnosis + S_Diagnosis"
   ]
  },
  {
   "cell_type": "code",
   "execution_count": null,
   "metadata": {
    "scrolled": true
   },
   "outputs": [],
   "source": [
    "Sub_Diagnosis"
   ]
  },
  {
   "cell_type": "code",
   "execution_count": null,
   "metadata": {},
   "outputs": [],
   "source": [
    "Crisis_sub[New_Columns] = 0"
   ]
  },
  {
   "cell_type": "code",
   "execution_count": null,
   "metadata": {},
   "outputs": [],
   "source": [
    "# After manipulation I plugged the excel file in to create a readable cvs for the class"
   ]
  },
  {
   "cell_type": "code",
   "execution_count": null,
   "metadata": {},
   "outputs": [],
   "source": [
    "Crisis_sub.to_csv(\"../data/Crisis_sub2.csv\", index=False)"
   ]
  },
  {
   "cell_type": "code",
   "execution_count": null,
   "metadata": {
    "scrolled": true
   },
   "outputs": [],
   "source": [
    "Crisis_sub"
   ]
  },
  {
   "cell_type": "code",
   "execution_count": null,
   "metadata": {},
   "outputs": [],
   "source": [
    "Crisis_sub2 = pd.read_excel(r\"../data/Crisis_sub2.xlsx\")\n",
    "print (Crisis_sub2)"
   ]
  },
  {
   "cell_type": "code",
   "execution_count": null,
   "metadata": {},
   "outputs": [],
   "source": [
    "Crisis_sub2.head(2)"
   ]
  },
  {
   "cell_type": "code",
   "execution_count": null,
   "metadata": {},
   "outputs": [],
   "source": [
    "Crisis_sub2.to_csv('../data/Crisis.csv')"
   ]
  },
  {
   "cell_type": "code",
   "execution_count": null,
   "metadata": {},
   "outputs": [],
   "source": [
    "Crisis_Issues = pd.read_excel(r\"../data/Crisis_Issues.xlsx\")"
   ]
  },
  {
   "cell_type": "code",
   "execution_count": null,
   "metadata": {},
   "outputs": [],
   "source": [
    "Crisis_Issues.head(2)"
   ]
  },
  {
   "cell_type": "code",
   "execution_count": null,
   "metadata": {},
   "outputs": [],
   "source": [
    "Crisis_Issues.to_csv('../data/Crisis_Issues.csv', index=False)"
   ]
  },
  {
   "cell_type": "code",
   "execution_count": null,
   "metadata": {},
   "outputs": [],
   "source": [
    "# Ways I tried to adjust new column values in python. before adjusting in excel"
   ]
  },
  {
   "cell_type": "raw",
   "metadata": {},
   "source": [
    "Crisis_sub[[ES_Diagnosis]] = np.where(Crisis_sub['CRISIS Issues - Emotional State'].str.contains(np.array(ES_Diagnosis)), 1, 0)"
   ]
  },
  {
   "cell_type": "raw",
   "metadata": {},
   "source": [
    "Crisis_sub[[New_Columns]] = np.where(Crisis_sub[['CRISIS Issues - Emotional State', 'CRISIS Issues - Mental Health', 'CRISIS Issues - Relationships']].str.contains(New_Columns), 1, 0)"
   ]
  },
  {
   "cell_type": "raw",
   "metadata": {},
   "source": [
    "value = []\n",
    "for row in Crisis_sub['CRISIS Issues - Emotional State']:\n",
    "    if Crisis_sub[[New_Columns]] in Crisis_sub['CRISIS Issues - Emotional State']:\n",
    "       value.append(1)\n",
    "    elif for row in Crisis_sub['CRISIS Issues - Menatal Health']:\n",
    "            if Crisis_sub[[New_Columns]] in Crisis_sub['CRISIS Issues - Mental Health']:\n",
    "            value.append(1)\n",
    "    elif for row in Crisis_sub['CRISIS Issues - Relationships']:\n",
    "            if Crisis_sub[[New_Columns]] in Crisis_sub['CRISIS Issues - Relationships']:\n",
    "            value.append(1)\n",
    "    else:\n",
    "       value.append(0)"
   ]
  },
  {
   "cell_type": "raw",
   "metadata": {},
   "source": [
    "value = []\n",
    "for row in Crisis_sub['CRISIS Issues - Emotional State']:\n",
    "    if New_Columns in Crisis_sub['CRISIS Issues - Emotional State'].values:\n",
    "       value.append(1)\n",
    "    else:\n",
    "       value.append(0)"
   ]
  },
  {
   "cell_type": "raw",
   "metadata": {},
   "source": [
    "np.where(condition, value if condition is true, value if condition is false)"
   ]
  },
  {
   "cell_type": "raw",
   "metadata": {},
   "source": [
    "conditions = [\n",
    "    (df['likes_count'] <= 2),\n",
    "    (df['likes_count'] > 2) & (df['likes_count'] <= 9),\n",
    "    (df['likes_count'] > 9) & (df['likes_count'] <= 15),\n",
    "    (df['likes_count'] > 15)\n",
    "    ]\n",
    "\n",
    "# create a list of the values we want to assign for each condition\n",
    "values = ['tier_4', 'tier_3', 'tier_2', 'tier_1']\n",
    "\n",
    "# create a new column and use np.select to assign values to it using our lists as arguments\n",
    "df['tier'] = np.select(conditions, values)\n",
    "\n",
    "# display updated DataFrame\n",
    "df.head()"
   ]
  },
  {
   "cell_type": "code",
   "execution_count": null,
   "metadata": {},
   "outputs": [],
   "source": [
    "# THINGS WE DID AS A CLASS"
   ]
  },
  {
   "cell_type": "raw",
   "metadata": {},
   "source": [
    "def get_unique_issues(col_name, df, sep = '; '):\n",
    "    column = df[col_name]\n",
    "    column_list = column.str.split(sep)\n",
    "    unique_list = list(set(column_list.dropna().sum()))\n",
    "    return unique_list\n",
    "unique_cols_list = []\n",
    "for c in issues.columns:\n",
    "    print(c)\n",
    "    unique_cols_list.append(get_unique_issues(c, issues))\n"
   ]
  },
  {
   "cell_type": "raw",
   "metadata": {},
   "source": [
    "issues_dict = {}\n",
    "for issue in emotional_state_list.dropna().sum():\n",
    "    # using if/else\n",
    "#     if issue in issues_dict.keys():\n",
    "#         issues_dict[issue] += 1\n",
    "#     else:\n",
    "#         issues_dict[issue] = 1\n",
    "    #-------\n",
    "    # using try/except\n",
    "    try:\n",
    "        issues_dict[issue] += 1\n",
    "    except:\n",
    "        issues_dict[issue] = 1\n",
    "issues_dict\n"
   ]
  },
  {
   "cell_type": "raw",
   "metadata": {},
   "source": [
    "[issue for sublist in unique_cols_list for issue in sublist]\n",
    "flat_list = []\n",
    "for sublist in unique_cols_list:\n",
    "    for issue in sublist:\n",
    "        flat_list.append(issue)\n"
   ]
  },
  {
   "cell_type": "raw",
   "metadata": {},
   "source": [
    "risk_life_threating = [\n",
    "    'Abuse/Neglect Parent/Family',\n",
    "    'Abuse/Neglect of Spouse/Partner',\n",
    "    'Child Abuse/Neglect',\n",
    "    'Child Endangerment',\n",
    "    'Child Sexual Abuse',\n",
    "    'Pedophile',\n",
    "    'Cult/Ritualistic Abuse',\n",
    "    'Adult Protective Services',\n",
    "    'Runaway/Missing',\n",
    "    'Rape/Sexual Abuse',\n",
    "    'Mass Violence',\n",
    "    'Terrorism',\n",
    "    'Non-Suicidal Self Injury',\n",
    "    'Homicidal Thoughts/Ideations',\n",
    "    '3rd Party Concern for Homicide',\n",
    "    'Homicide Plan/Attempt In-Progress',\n",
    "    'Suicidal Thoughts/Ideations',\n",
    "    'Suicide Plan/Attempt In-Progress',\n",
    "    '3rd Party Concern for Suicide',\n",
    "    'Mobile Crisis',\n",
    "    'Emergency Medical Services',\n",
    "    'Emergency (Mental Health)',\n",
    "    'Overdose',\n",
    "    'Poisoning',\n",
    "    'Detoxification',\n",
    "    'Under the Influence',\n",
    "    'Street Drug Problem',\n",
    "    'Medication Concern',\n",
    "]\n"
   ]
  }
 ],
 "metadata": {
  "kernelspec": {
   "display_name": "Python 3",
   "language": "python",
   "name": "python3"
  },
  "language_info": {
   "codemirror_mode": {
    "name": "ipython",
    "version": 3
   },
   "file_extension": ".py",
   "mimetype": "text/x-python",
   "name": "python",
   "nbconvert_exporter": "python",
   "pygments_lexer": "ipython3",
   "version": "3.8.5"
  }
 },
 "nbformat": 4,
 "nbformat_minor": 4
}
