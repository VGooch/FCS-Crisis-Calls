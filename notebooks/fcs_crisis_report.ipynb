{
 "cells": [
  {
   "cell_type": "code",
   "execution_count": 1,
   "metadata": {},
   "outputs": [],
   "source": [
    "import pandas as pd\n",
    "import matplotlib.pyplot as plt\n",
    "import seaborn as sns\n",
    "import requests\n",
    "import folium\n",
    "from IPython.display import Image\n",
    "import pickle\n",
    "import numpy as np\n",
    "\n",
    "%matplotlib inline"
   ]
  },
  {
   "cell_type": "code",
   "execution_count": 2,
   "metadata": {},
   "outputs": [
    {
     "name": "stderr",
     "output_type": "stream",
     "text": [
      "C:\\Users\\User\\anaconda3\\lib\\site-packages\\IPython\\core\\interactiveshell.py:3146: DtypeWarning: Columns (10,25) have mixed types.Specify dtype option on import or set low_memory=False.\n",
      "  has_raised = await self.run_ast_nodes(code_ast.body, cell_name,\n"
     ]
    },
    {
     "data": {
      "text/html": [
       "<div>\n",
       "<style scoped>\n",
       "    .dataframe tbody tr th:only-of-type {\n",
       "        vertical-align: middle;\n",
       "    }\n",
       "\n",
       "    .dataframe tbody tr th {\n",
       "        vertical-align: top;\n",
       "    }\n",
       "\n",
       "    .dataframe thead th {\n",
       "        text-align: right;\n",
       "    }\n",
       "</style>\n",
       "<table border=\"1\" class=\"dataframe\">\n",
       "  <thead>\n",
       "    <tr style=\"text-align: right;\">\n",
       "      <th></th>\n",
       "      <th>Unnamed: 0</th>\n",
       "      <th>CallReportNum</th>\n",
       "      <th>CallDateAndTimeStart</th>\n",
       "      <th>CallDateAndTimeEnd</th>\n",
       "      <th>CallLength</th>\n",
       "      <th>CallerNum</th>\n",
       "      <th>PhoneWorkerNum</th>\n",
       "      <th>CityName</th>\n",
       "      <th>CountyName</th>\n",
       "      <th>StateProvince</th>\n",
       "      <th>...</th>\n",
       "      <th>CURRENT SUICIDAL INTENTION/PLAN/ATTEMPT IN PROGRESS</th>\n",
       "      <th>Suicide History/Previous Attempts</th>\n",
       "      <th>Grief due to Suicide Loss</th>\n",
       "      <th>Information about SOSL support group</th>\n",
       "      <th>Third party concerned about anothers suicide risk</th>\n",
       "      <th>CURRENT THOUGHTS/IDEATIONS</th>\n",
       "      <th>Total Suicide Issues</th>\n",
       "      <th>Total Number of Issues</th>\n",
       "      <th>IR Call</th>\n",
       "      <th>Number of Imminent Risk Issues</th>\n",
       "    </tr>\n",
       "  </thead>\n",
       "  <tbody>\n",
       "    <tr>\n",
       "      <th>0</th>\n",
       "      <td>0</td>\n",
       "      <td>82699332</td>\n",
       "      <td>2020-12-31 23:40:00</td>\n",
       "      <td>2020-12-31 23:53:00</td>\n",
       "      <td>13</td>\n",
       "      <td>3769693</td>\n",
       "      <td>116928</td>\n",
       "      <td>Houston</td>\n",
       "      <td>Harris</td>\n",
       "      <td>TX</td>\n",
       "      <td>...</td>\n",
       "      <td>0</td>\n",
       "      <td>0</td>\n",
       "      <td>0</td>\n",
       "      <td>0</td>\n",
       "      <td>0</td>\n",
       "      <td>0</td>\n",
       "      <td>0</td>\n",
       "      <td>4</td>\n",
       "      <td>No</td>\n",
       "      <td>0</td>\n",
       "    </tr>\n",
       "    <tr>\n",
       "      <th>1</th>\n",
       "      <td>1</td>\n",
       "      <td>82689642</td>\n",
       "      <td>2020-12-31 22:31:00</td>\n",
       "      <td>2020-12-31 23:00:00</td>\n",
       "      <td>29</td>\n",
       "      <td>-1</td>\n",
       "      <td>136748</td>\n",
       "      <td>NaN</td>\n",
       "      <td>NaN</td>\n",
       "      <td>TN</td>\n",
       "      <td>...</td>\n",
       "      <td>0</td>\n",
       "      <td>0</td>\n",
       "      <td>0</td>\n",
       "      <td>0</td>\n",
       "      <td>0</td>\n",
       "      <td>0</td>\n",
       "      <td>0</td>\n",
       "      <td>2</td>\n",
       "      <td>No</td>\n",
       "      <td>0</td>\n",
       "    </tr>\n",
       "  </tbody>\n",
       "</table>\n",
       "<p>2 rows × 235 columns</p>\n",
       "</div>"
      ],
      "text/plain": [
       "   Unnamed: 0  CallReportNum CallDateAndTimeStart   CallDateAndTimeEnd  \\\n",
       "0           0       82699332  2020-12-31 23:40:00  2020-12-31 23:53:00   \n",
       "1           1       82689642  2020-12-31 22:31:00  2020-12-31 23:00:00   \n",
       "\n",
       "   CallLength  CallerNum  PhoneWorkerNum CityName CountyName StateProvince  \\\n",
       "0          13    3769693          116928  Houston     Harris            TX   \n",
       "1          29         -1          136748      NaN        NaN            TN   \n",
       "\n",
       "   ... CURRENT SUICIDAL INTENTION/PLAN/ATTEMPT IN PROGRESS  \\\n",
       "0  ...                                                  0    \n",
       "1  ...                                                  0    \n",
       "\n",
       "  Suicide History/Previous Attempts Grief due to Suicide Loss  \\\n",
       "0                                 0                         0   \n",
       "1                                 0                         0   \n",
       "\n",
       "  Information about SOSL support group  \\\n",
       "0                                    0   \n",
       "1                                    0   \n",
       "\n",
       "  Third party concerned about anothers suicide risk  \\\n",
       "0                                                 0   \n",
       "1                                                 0   \n",
       "\n",
       "  CURRENT THOUGHTS/IDEATIONS Total Suicide Issues Total Number of Issues  \\\n",
       "0                          0                    0                      4   \n",
       "1                          0                    0                      2   \n",
       "\n",
       "  IR Call Number of Imminent Risk Issues  \n",
       "0      No                              0  \n",
       "1      No                              0  \n",
       "\n",
       "[2 rows x 235 columns]"
      ]
     },
     "execution_count": 2,
     "metadata": {},
     "output_type": "execute_result"
    }
   ],
   "source": [
    "Crisis = pd.read_csv('../data/Crisis.csv')\n",
    "Crisis.head(2)"
   ]
  },
  {
   "cell_type": "code",
   "execution_count": 3,
   "metadata": {},
   "outputs": [],
   "source": [
    "CRISIS = Crisis[['CRISIS Issues - Abusive Behavior', 'CRISIS Issues - Call Problems (specify at least 2)', 'CRISIS Issues - Emotional State', 'CRISIS Issues - Financial/Basic Needs', 'CRISIS Issues - Health/Physical', 'CRISIS Issues - Homicide', 'CRISIS Issues - Information or Services Needed', 'CRISIS Issues - Mental Health', 'CRISIS Issues - No Issue Call', 'CRISIS Issues - Other Description', 'CRISIS Issues - Relationships', 'CRISIS Issues - Substances', 'CRISIS Issues - Suicide']]"
   ]
  },
  {
   "cell_type": "code",
   "execution_count": 4,
   "metadata": {},
   "outputs": [
    {
     "name": "stdout",
     "output_type": "stream",
     "text": [
      "<class 'pandas.core.frame.DataFrame'>\n",
      "RangeIndex: 22326 entries, 0 to 22325\n",
      "Data columns (total 13 columns):\n",
      " #   Column                                              Non-Null Count  Dtype  \n",
      "---  ------                                              --------------  -----  \n",
      " 0   CRISIS Issues - Abusive Behavior                    985 non-null    object \n",
      " 1   CRISIS Issues - Call Problems (specify at least 2)  0 non-null      float64\n",
      " 2   CRISIS Issues - Emotional State                     15878 non-null  object \n",
      " 3   CRISIS Issues - Financial/Basic Needs               878 non-null    object \n",
      " 4   CRISIS Issues - Health/Physical                     2171 non-null   object \n",
      " 5   CRISIS Issues - Homicide                            26 non-null     object \n",
      " 6   CRISIS Issues - Information or Services Needed      1051 non-null   object \n",
      " 7   CRISIS Issues - Mental Health                       8814 non-null   object \n",
      " 8   CRISIS Issues - No Issue Call                       640 non-null    object \n",
      " 9   CRISIS Issues - Other Description                   1376 non-null   object \n",
      " 10  CRISIS Issues - Relationships                       10136 non-null  object \n",
      " 11  CRISIS Issues - Substances                          1127 non-null   object \n",
      " 12  CRISIS Issues - Suicide                             2036 non-null   object \n",
      "dtypes: float64(1), object(12)\n",
      "memory usage: 2.2+ MB\n"
     ]
    }
   ],
   "source": [
    "CRISIS.info()"
   ]
  },
  {
   "cell_type": "code",
   "execution_count": 5,
   "metadata": {},
   "outputs": [
    {
     "data": {
      "text/plain": [
       "CRISIS Issues - Abusive Behavior                        985\n",
       "CRISIS Issues - Call Problems (specify at least 2)        0\n",
       "CRISIS Issues - Emotional State                       15878\n",
       "CRISIS Issues - Financial/Basic Needs                   878\n",
       "CRISIS Issues - Health/Physical                        2171\n",
       "CRISIS Issues - Homicide                                 26\n",
       "CRISIS Issues - Information or Services Needed         1051\n",
       "CRISIS Issues - Mental Health                          8814\n",
       "CRISIS Issues - No Issue Call                           640\n",
       "CRISIS Issues - Other Description                      1376\n",
       "CRISIS Issues - Relationships                         10136\n",
       "CRISIS Issues - Substances                             1127\n",
       "CRISIS Issues - Suicide                                2036\n",
       "dtype: int64"
      ]
     },
     "execution_count": 5,
     "metadata": {},
     "output_type": "execute_result"
    }
   ],
   "source": [
    "CRISIS.count()"
   ]
  },
  {
   "cell_type": "code",
   "execution_count": 6,
   "metadata": {},
   "outputs": [
    {
     "data": {
      "text/plain": [
       "Text(0.5, 1.0, 'Total Number of Calls By Crisis Issue')"
      ]
     },
     "execution_count": 6,
     "metadata": {},
     "output_type": "execute_result"
    },
    {
     "data": {
      "image/png": "[encoded data removed]",
      "text/plain": [
       "<Figure size 432x288 with 1 Axes>"
      ]
     },
     "metadata": {
      "needs_background": "light"
     },
     "output_type": "display_data"
    }
   ],
   "source": [
    "ax = CRISIS.count().plot.barh()\n",
    "plt.xlabel('Total Number of Calls')\n",
    "plt.ylabel('Crisis Issues')\n",
    "plt.title('Total Number of Calls By Crisis Issue')"
   ]
  },
  {
   "cell_type": "code",
   "execution_count": 7,
   "metadata": {},
   "outputs": [
    {
     "data": {
      "text/html": [
       "<div>\n",
       "<style scoped>\n",
       "    .dataframe tbody tr th:only-of-type {\n",
       "        vertical-align: middle;\n",
       "    }\n",
       "\n",
       "    .dataframe tbody tr th {\n",
       "        vertical-align: top;\n",
       "    }\n",
       "\n",
       "    .dataframe thead th {\n",
       "        text-align: right;\n",
       "    }\n",
       "</style>\n",
       "<table border=\"1\" class=\"dataframe\">\n",
       "  <thead>\n",
       "    <tr style=\"text-align: right;\">\n",
       "      <th></th>\n",
       "      <th>Abusive Behavior</th>\n",
       "      <th>Call Problems (specify at least 2)</th>\n",
       "      <th>Emotional State</th>\n",
       "      <th>Financial/Basic Needs</th>\n",
       "      <th>Health/Physical</th>\n",
       "      <th>Homicide</th>\n",
       "      <th>Information or Services Needed</th>\n",
       "      <th>Mental Health</th>\n",
       "      <th>No Issue Call</th>\n",
       "      <th>Other Description</th>\n",
       "      <th>Relationships</th>\n",
       "      <th>Substances</th>\n",
       "      <th>Suicide</th>\n",
       "      <th>Imminent Risk</th>\n",
       "    </tr>\n",
       "  </thead>\n",
       "  <tbody>\n",
       "    <tr>\n",
       "      <th>0</th>\n",
       "      <td>Abuse/Neglect of Parent/Other Family</td>\n",
       "      <td>Cult/Ritualistic Abuse</td>\n",
       "      <td>Anger/Hostility</td>\n",
       "      <td>\"Half Way\" House/Drug Rehab</td>\n",
       "      <td>Abortion</td>\n",
       "      <td>Chronic Homicidal Thoughts/Ideations</td>\n",
       "      <td>Adoption</td>\n",
       "      <td>Anger Management</td>\n",
       "      <td>Donation Call Only</td>\n",
       "      <td>Natural Disaster</td>\n",
       "      <td>Animal/Pet</td>\n",
       "      <td>Alcohol Information</td>\n",
       "      <td>Chronic Suicidal Thoughts/Ideations</td>\n",
       "      <td>Abuse/Neglect of Spouse/Partner</td>\n",
       "    </tr>\n",
       "    <tr>\n",
       "      <th>1</th>\n",
       "      <td>Abuse/Neglect of Spouse/Partner</td>\n",
       "      <td>Home Repair</td>\n",
       "      <td>Anxious/Stressed</td>\n",
       "      <td>Bank Account (overdraft or other issues)</td>\n",
       "      <td>Aids/HIV</td>\n",
       "      <td>CURRENT HOMICIDAL INTENTION/PLAN/ATTEMPT IN PR...</td>\n",
       "      <td>Adoption Placement</td>\n",
       "      <td>Anxiety/Panic</td>\n",
       "      <td>Information Call Only</td>\n",
       "      <td>Obscene/Fantasy Call</td>\n",
       "      <td>Blended Family</td>\n",
       "      <td>Alcohol Problem</td>\n",
       "      <td>CURRENT SUICIDAL INTENTION/PLAN/ATTEMPT IN PRO...</td>\n",
       "      <td>Child Sexual Abuse</td>\n",
       "    </tr>\n",
       "  </tbody>\n",
       "</table>\n",
       "</div>"
      ],
      "text/plain": [
       "                       Abusive Behavior Call Problems (specify at least 2)  \\\n",
       "0  Abuse/Neglect of Parent/Other Family            Cult/Ritualistic Abuse    \n",
       "1       Abuse/Neglect of Spouse/Partner                       Home Repair    \n",
       "\n",
       "    Emotional State                     Financial/Basic Needs Health/Physical  \\\n",
       "0   Anger/Hostility               \"Half Way\" House/Drug Rehab        Abortion   \n",
       "1  Anxious/Stressed  Bank Account (overdraft or other issues)        Aids/HIV   \n",
       "\n",
       "                                            Homicide  \\\n",
       "0               Chronic Homicidal Thoughts/Ideations   \n",
       "1  CURRENT HOMICIDAL INTENTION/PLAN/ATTEMPT IN PR...   \n",
       "\n",
       "  Information or Services Needed     Mental Health          No Issue Call  \\\n",
       "0                       Adoption  Anger Management     Donation Call Only   \n",
       "1             Adoption Placement     Anxiety/Panic  Information Call Only   \n",
       "\n",
       "      Other Description   Relationships           Substances  \\\n",
       "0      Natural Disaster      Animal/Pet  Alcohol Information   \n",
       "1  Obscene/Fantasy Call  Blended Family      Alcohol Problem   \n",
       "\n",
       "                                             Suicide  \\\n",
       "0                Chronic Suicidal Thoughts/Ideations   \n",
       "1  CURRENT SUICIDAL INTENTION/PLAN/ATTEMPT IN PRO...   \n",
       "\n",
       "                     Imminent Risk  \n",
       "0  Abuse/Neglect of Spouse/Partner  \n",
       "1               Child Sexual Abuse  "
      ]
     },
     "execution_count": 7,
     "metadata": {},
     "output_type": "execute_result"
    }
   ],
   "source": [
    "Crisis_Issues = pd.read_csv('../data/Crisis_Issues.csv')\n",
    "Crisis_Issues.head(2)"
   ]
  },
  {
   "cell_type": "code",
   "execution_count": 8,
   "metadata": {},
   "outputs": [
    {
     "data": {
      "text/plain": [
       "Abusive Behavior                      29\n",
       "Call Problems (specify at least 2)     6\n",
       "Emotional State                       20\n",
       "Financial/Basic Needs                 30\n",
       "Health/Physical                       19\n",
       "Homicide                               9\n",
       "Information or Services Needed        34\n",
       "Mental Health                         32\n",
       "No Issue Call                          3\n",
       "Other Description                      6\n",
       "Relationships                         27\n",
       "Substances                            14\n",
       "Suicide                                7\n",
       "Imminent Risk                         27\n",
       "dtype: int64"
      ]
     },
     "execution_count": 8,
     "metadata": {},
     "output_type": "execute_result"
    }
   ],
   "source": [
    "Crisis_Issues.count()"
   ]
  },
  {
   "cell_type": "code",
   "execution_count": 9,
   "metadata": {},
   "outputs": [
    {
     "data": {
      "text/plain": [
       "Text(0.5, 1.0, 'Total Number of Issues By Crisis Issues')"
      ]
     },
     "execution_count": 9,
     "metadata": {},
     "output_type": "execute_result"
    },
    {
     "data": {
      "image/png": "[encoded data removed]",
      "text/plain": [
       "<Figure size 432x288 with 1 Axes>"
      ]
     },
     "metadata": {
      "needs_background": "light"
     },
     "output_type": "display_data"
    }
   ],
   "source": [
    "ax = Crisis_Issues.count().plot.barh()\n",
    "plt.xlabel('Total Number of Issues')\n",
    "plt.ylabel('Crisis Issues')\n",
    "plt.title('Total Number of Issues By Crisis Issues')"
   ]
  },
  {
   "cell_type": "code",
   "execution_count": 10,
   "metadata": {
    "scrolled": true
   },
   "outputs": [
    {
     "name": "stdout",
     "output_type": "stream",
     "text": [
      "++Bank Account (overdraft or other issues) ++\n"
     ]
    }
   ],
   "source": [
    "for c in Crisis.columns:\n",
    "    if 'Bank Account (overdraft or other issues)' in c: \n",
    "        print('++'+c+'++') "
   ]
  },
  {
   "cell_type": "code",
   "execution_count": 11,
   "metadata": {},
   "outputs": [],
   "source": [
    "All_Issues = Crisis[['Child Endangerment',\n",
    "'Bullying',\n",
    "'Child Sexual Abuse',\n",
    "'Other Abusive Behavior',\n",
    "'Prejudice',\n",
    "'Child Abuse/Neglect',\n",
    "'Harassment',\n",
    "'Mass Violence (Domestic/International)',\n",
    "'Threat to CIC',\n",
    "'Abuse/Neglect of Parent/Other Family',\n",
    "'Cult/Ritualistic Abuse',\n",
    "'Terrorism (Domestic/International)',\n",
    "'Adult Abused as a Child',\n",
    "'Other Physical Abuse/Neglect',\n",
    "'Abuse/Neglect of Spouse/Partner',\n",
    "'Gang Violence',\n",
    "'Pedophile',\n",
    "'Other Criminal Behavior/Corrections/Felony',\n",
    "'Hate Crime',\n",
    "'Rape/Sexual Abuse',\n",
    "'Anger/Hostility',\n",
    "'Caregiver Stress',\n",
    "'Overwhelmed',\n",
    "'Lonely ',\n",
    "'School Stress',\n",
    "'Scared',\n",
    "'Moving Stress',\n",
    "'Embarrassed',\n",
    "'Illness/Health Stress',\n",
    "'Guilty',\n",
    "'Emotional Abandonment',\n",
    "'Financial Stress',\n",
    "'Holiday Stress',\n",
    "'Anxious/Stressed',\n",
    "'Jealous',\n",
    "'Job Stress',\n",
    "'Sad/Depressed',\n",
    "'Content',\n",
    "'Parenting Stress',\n",
    "'Bored',\n",
    "'Housing (permanent)',\n",
    "'Child Support',\n",
    "'Payment towards Lawyer or Legal Services',\n",
    "'Clothing/Toiletries',\n",
    "'Taxes',\n",
    "'Rent/Mortgage',\n",
    "'Transportation',\n",
    "'Half Way House/Drug Rehab',\n",
    "'Home Repair',\n",
    "'Housing (temporary)',\n",
    "'Car Repair',\n",
    "'Insurance',\n",
    "'Credit Card Debt ',\n",
    "'Food',\n",
    "'Employment/Job Placement',\n",
    "'House Keeping/Errands (Seniors)',\n",
    "'Moving Assistance',\n",
    "'Utilities',\n",
    "'Medication/Health Care',\n",
    "'Home repair/maintenance',\n",
    "'Bank Account (overdraft or other issues) ',\n",
    "'Sleep Problems/Disorders',\n",
    "'Aids/HIV',\n",
    "'Short-term Illness',\n",
    "'Weight Loss/Gain ',\n",
    "'Sexually Transmitted Diseases',\n",
    "'Cancer',\n",
    "'Other Physical Health',\n",
    "'Sexual Dysfunction',\n",
    "'Terminal Illness',\n",
    "'Emergency Medical Services',\n",
    "'Pain',\n",
    "'Disability/Handicap/Long-Term Illness',\n",
    "'Diabetes',\n",
    "'Pregnancy',\n",
    "'Home Health Care',\n",
    "'Chronic Homicidal Thoughts/Ideations',\n",
    "'CURRENT HOMICIDAL INTENTION/PLAN/ATTEMPT IN PROGRESS',\n",
    "'CURRENT HOMICIDAL THOUGHTS/IDEATIONS',\n",
    "'Homicidal History/Previous Attempts',\n",
    "'Third party concerned about anothers homicide risk',\n",
    "'Domestic violence related homicide',\n",
    "'Foster/Respite Care',\n",
    "'Mental Health Counseling',\n",
    "'Financial Counseling',\n",
    "'Military/Veterans Services/Military Focused',\n",
    "'Volunteer',\n",
    "'Ex-Offender Services',\n",
    "'Substance Abuse Treatment',\n",
    "'Information and Referral Services',\n",
    "'Legal Services',\n",
    "'Job Training/Career Planning',\n",
    "'Recreation/Leisure',\n",
    "'Immigration/Refugees/Migrants',\n",
    "'Insurance (Medical)',\n",
    "'Anger Management',\n",
    "'SOSL Support Group',\n",
    "'Mobile Crisis ',\n",
    "'Other Support Group',\n",
    "'Elder/Senior Rights and Benefits',\n",
    "'Caregiver Benefits',\n",
    "'Household Emergency',\n",
    "'Adoption ',\n",
    "'Paranoia',\n",
    "'Autism Spectrum Disorder (diagnosed)',\n",
    "'Social Injustice',\n",
    "'Gambling/Compulsive Spending',\n",
    "'Grief',\n",
    "'Personality disorder',\n",
    "'Eating Disorder',\n",
    "'Medical Related Anxiety ',\n",
    "'Anxiety/Panic',\n",
    "'Gender Identity ',\n",
    "'Emergency (Mental Health)',\n",
    "'Schizophrenia/Schizoaffective Disorder',\n",
    "'Trauma/PTSD',\n",
    "'Auditory/Visual Hallucinations',\n",
    "'Perfectionism',\n",
    "'Self-Esteem',\n",
    "'Pet Grief',\n",
    "'Moral/Religious Issues',\n",
    "'Non-Suicidal Self Injury',\n",
    "'Other Mental Health',\n",
    "'Phobia',\n",
    "'Recent psychiatric hospitalization',\n",
    "'Depression ',\n",
    "'Codependency',\n",
    "'Sexual Identity',\n",
    "'Grief due to Suicide',\n",
    "'Bipolar Disorder (diagnosed) ',\n",
    "'Sexual (Addiction Guilt etc.)',\n",
    "'Donation Call Only',\n",
    "'Test Call Only',\n",
    "'Information Call Only',\n",
    "'Prank Call',\n",
    "'Under the Influence',\n",
    "'Politics',\n",
    "'Natural Disaster',\n",
    "'Obscene/Fantasy Call',\n",
    "'Status Improved/Stable',\n",
    "'Total Other Description Issues',\n",
    "'Same-Sex Relationship',\n",
    "'Blended Family',\n",
    "'Runaway/Missing',\n",
    "'Employer/Co-Worker',\n",
    "'Animal/Pet',\n",
    "'Marital/Divorce',\n",
    "'Caregiver',\n",
    "'Custody Issues',\n",
    "'Concern for Other',\n",
    "'Case Manager',\n",
    "'Roommate',\n",
    "'Clergy',\n",
    "'Neighbor/Landlord',\n",
    "'Parent-Child',\n",
    "'Crisis Counselor',\n",
    "'Inter-racial/cross-cultural issues',\n",
    "'Conflict With Other',\n",
    "'Church',\n",
    "'Male-Female',\n",
    "'Single Parent-Child',\n",
    "'Police',\n",
    "'Peer Group/Friend',\n",
    "'Family',\n",
    "'Therapist/Medical Doctor',\n",
    "'Teacher/School',\n",
    "'Other Relationships',\n",
    "'Alcohol Information',\n",
    "'Drug (street) Problem',\n",
    "'Overdose',\n",
    "'Other Substances',\n",
    "'Drug (street) Information',\n",
    "'Medication Concern',\n",
    "'Recovery/Sobriety',\n",
    "'Medication Information',\n",
    "'Medication Dependency',\n",
    "'Alcohol Problem',\n",
    "'Detoxification',\n",
    "'Poisoning',\n",
    "'Cigarettes',\n",
    "'Chronic Suicidal Thoughts/Ideations',\n",
    "'CURRENT SUICIDAL INTENTION/PLAN/ATTEMPT IN PROGRESS',\n",
    "'Suicide History/Previous Attempts',\n",
    "'Grief due to Suicide Loss',\n",
    "'Information about SOSL support group',\n",
    "'Third party concerned about anothers suicide risk',\n",
    "'CURRENT THOUGHTS/IDEATIONS',\n",
    "]]\n",
    "\n",
    "\n",
    "\n",
    "\n",
    "\n",
    "\n",
    "\n",
    "\n",
    "\n",
    "\n"
   ]
  },
  {
   "cell_type": "code",
   "execution_count": null,
   "metadata": {},
   "outputs": [],
   "source": []
  },
  {
   "cell_type": "code",
   "execution_count": null,
   "metadata": {},
   "outputs": [],
   "source": []
  },
  {
   "cell_type": "code",
   "execution_count": null,
   "metadata": {},
   "outputs": [],
   "source": []
  },
  {
   "cell_type": "code",
   "execution_count": null,
   "metadata": {},
   "outputs": [],
   "source": []
  },
  {
   "cell_type": "code",
   "execution_count": null,
   "metadata": {},
   "outputs": [],
   "source": []
  },
  {
   "cell_type": "code",
   "execution_count": null,
   "metadata": {},
   "outputs": [],
   "source": []
  },
  {
   "cell_type": "code",
   "execution_count": null,
   "metadata": {},
   "outputs": [],
   "source": []
  }
 ],
 "metadata": {
  "kernelspec": {
   "display_name": "Python 3",
   "language": "python",
   "name": "python3"
  },
  "language_info": {
   "codemirror_mode": {
    "name": "ipython",
    "version": 3
   },
   "file_extension": ".py",
   "mimetype": "text/x-python",
   "name": "python",
   "nbconvert_exporter": "python",
   "pygments_lexer": "ipython3",
   "version": "3.8.5"
  }
 },
 "nbformat": 4,
 "nbformat_minor": 4
}
